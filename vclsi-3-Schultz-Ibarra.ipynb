{
 "cells": [
  {
   "cell_type": "markdown",
   "metadata": {},
   "source": [
    "# Assignment Sheet 3"
   ]
  },
  {
   "cell_type": "markdown",
   "metadata": {},
   "source": [
    "Bruce Schultz  \n",
    "bschultz@uni-bonn.de"
   ]
  },
  {
   "cell_type": "markdown",
   "metadata": {},
   "source": [
    "Miguel A. Ibarra-Arellano  \n",
    "ibarrarellano@gmail.com\n"
   ]
  },
  {
   "cell_type": "markdown",
   "metadata": {},
   "source": [
    "## Exercise 1"
   ]
  },
  {
   "cell_type": "markdown",
   "metadata": {},
   "source": [
    "#### Part a\n",
    "\n",
    "**Pick the \"three clusters with equal numbers of points\" data set. Set the number of points per class to 10, and number of dimensions to 50. Once run the demo with perplexity=29, and once with perplexity=30. Explain why there is a big difference in the final 2D embedding?**\n",
    "* As explained in the article, perplexity is essentially a guess as to how many close neighbors each point has. Since there are a total of 30 points, by making the perplexity equal to 30, it causes the algorithm to fail. The perplexity, therefore, should always be set to a value that is less than the number of points. The first setting, with perplexity equal to 29, holds true to this rule and therefore is able to separate the values into distinct clusters\n",
    "\n",
    "**Try the example \"a square grid with equal spacing between points\", with 20 points per side. In the resulting plot with perplexity=100, why are distances between points in the middle of the square larger than near the boundary?**\n",
    "* t-SNE calculates the interaction of all points with every other point which is computationally expensive. One of the approximtions employed by this technique is to to reduce run time is to approximate the effect of clusters distant from the point. Here, distant clusters are calculated as a single value and their avaerage effect is then applied to the distant point. In this example, the densely packed corners of the shape are all pulling on the center points, so the center is being streched in several directions. The boundaries however have fewer directions in which they are interacting which is part of the reason they are able to become more packed. Ultimately it is the cumalative interaction of the distant points/clusters from all directions that make it so the points in the middle have greater distances between their neighbors compared to the points along the boundaries.\n",
    "\n",
    "**Pick \"a square grid with equal spacing between points\" data set, with 20 points per side, and perplexity=2. Run the t-SNE multiple times. You will observe that the square grid sometimes breaks down into separate smaller clusters. Why?**\n",
    "* As stated before, perplexity loosely defines the number of effective neighbors each dot should have. Additionally, it is known that if the perplexity is set too low for a large dataset, clusters may form when there should not be any due to small-scale variations that occur during the early iterations of calculations. This is also why when we run this simulation several times, it turns out different each time. Perplexity is also linked to the KL divergence that is calculated in that as perplexity increases, you will also get smalled KL-divergence values. With perplexity being so low in this simulation, KL-divergence values are high and false positive clusters form and separate. This shows why it is important to play with this parameter.\n",
    "\n",
    "**Use different perplexities for \"points randomly distributed in a circle\" with 100 points. Around what perplexity value does the resulting visualization start to resemble the input data set? Explain why the perplexity has to be large enough for the result to look like the input.**\n",
    "* When perplexity is set to a value of 10, the simulation begins to consistently generate a visualization that resembles the input data. As mentioned above, small perplexity values allow for meaningless clustering to occur so the points would take odd shapes or even form separate clusters. PErplexity is a parameter that is used to balance global (how points affect each other at a distance) and local (points' effects on those near them) interactions. So if set too low, the \"number of effective neighbors\" will be too low and the correct number of points will not cluster together yielding a result different from the desired one.\n",
    "\n"
   ]
  },
  {
   "cell_type": "code",
   "execution_count": null,
   "metadata": {},
   "outputs": [],
   "source": []
  }
 ],
 "metadata": {
  "kernelspec": {
   "display_name": "Python 3",
   "language": "python",
   "name": "python3"
  },
  "language_info": {
   "codemirror_mode": {
    "name": "ipython",
    "version": 3
   },
   "file_extension": ".py",
   "mimetype": "text/x-python",
   "name": "python",
   "nbconvert_exporter": "python",
   "pygments_lexer": "ipython3",
   "version": "3.5.4"
  }
 },
 "nbformat": 4,
 "nbformat_minor": 2
}
