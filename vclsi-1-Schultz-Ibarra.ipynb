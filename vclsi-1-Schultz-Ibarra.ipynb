{
 "cells": [
  {
   "cell_type": "markdown",
   "metadata": {},
   "source": [
    "# Assignment 1"
   ]
  },
  {
   "cell_type": "markdown",
   "metadata": {},
   "source": [
    "- Bruce Schultz\n",
    "- Miguel Ibarra"
   ]
  },
  {
   "cell_type": "markdown",
   "metadata": {},
   "source": [
    "## Exercise 1"
   ]
  },
  {
   "cell_type": "markdown",
   "metadata": {},
   "source": [
    "### Part a"
   ]
  },
  {
   "cell_type": "code",
   "execution_count": 3,
   "metadata": {},
   "outputs": [
    {
     "name": "stdout",
     "output_type": "stream",
     "text": [
      "Number of instances: 699 \n",
      "Number of columns: 11 \n",
      "List of column names: ['code' 'thickness' 'uniCelS' 'uniCelShape' 'marAdh' 'epiCelSize'\n",
      " 'bareNuc' 'blaChroma' 'normNuc' 'mitoses' 'class']\n"
     ]
    }
   ],
   "source": [
    "import pandas as pd\n",
    "import numpy as np\n",
    "\n",
    "bc_data = pd.read_excel('breast-cancer-wisconsin.xlsx')\n",
    "print(\"Number of instances:\", bc_data.shape[0],  \"\\nNumber of columns:\", \\\n",
    "      bc_data.shape[1],  \"\\nList of column names:\", bc_data.columns.values)"
   ]
  },
  {
   "cell_type": "markdown",
   "metadata": {},
   "source": [
    "### Part b"
   ]
  },
  {
   "cell_type": "code",
   "execution_count": 4,
   "metadata": {},
   "outputs": [
    {
     "name": "stdout",
     "output_type": "stream",
     "text": [
      "bareNuc contains null values\n",
      "No null values were found\n"
     ]
    },
    {
     "data": {
      "text/plain": [
       "[]"
      ]
     },
     "execution_count": 4,
     "metadata": {},
     "output_type": "execute_result"
    }
   ],
   "source": [
    "def find_missing_values(pds_array):\n",
    "    '''\n",
    "    :param A pandas dataframe:\n",
    "    :return: A list containing the column names which have null values\n",
    "    '''\n",
    "    null_vectors = []\n",
    "    for i in pds_array.columns.values:\n",
    "        if pds_array[i].isnull().values.any():\n",
    "            null_vectors.append(i) #Add to list of vectors with missing values\n",
    "            print(\"{} contains null values\".format(i))\n",
    "    if not null_vectors:\n",
    "        print(\"No null values were found\")\n",
    "    return null_vectors\n",
    "\n",
    "null_columns = find_missing_values(bc_data) #Use above function to find columns with missing values\n",
    "for vec in null_columns:\n",
    "    bc_data[vec] = bc_data[vec].interpolate()\n",
    "find_missing_values(bc_data) #Check again to be sure"
   ]
  },
  {
   "cell_type": "markdown",
   "metadata": {},
   "source": [
    "Here we chose to use the built-in interpolate() function from pandas since it works on a single vector"
   ]
  },
  {
   "cell_type": "markdown",
   "metadata": {},
   "source": [
    "### Part c"
   ]
  },
  {
   "cell_type": "code",
   "execution_count": 5,
   "metadata": {},
   "outputs": [
    {
     "name": "stdout",
     "output_type": "stream",
     "text": [
      "Benign instances: 458 \n",
      "Malignant instances: 241\n"
     ]
    }
   ],
   "source": [
    "benign = bc_data[bc_data['class'] == 2].drop('class', axis = 1) #Drop class after sorting by it (gives no useful info)\n",
    "malig = bc_data[bc_data['class'] == 4].drop('class', axis = 1)\n",
    "bc_data_no_class = bc_data.drop('class', axis = 1)\n",
    "print(\"Benign instances:\", len(benign), \"\\nMalignant instances:\", len(malig))"
   ]
  },
  {
   "cell_type": "markdown",
   "metadata": {},
   "source": [
    "### Part d"
   ]
  },
  {
   "cell_type": "code",
   "execution_count": 6,
   "metadata": {},
   "outputs": [
    {
     "name": "stdout",
     "output_type": "stream",
     "text": [
      "     Attribute   F score\n",
      "3  uniCelShape  1.898635\n",
      "2      uniCelS  1.836306\n",
      "6      bareNuc  1.805967\n",
      "7    blaChroma  1.301390\n",
      "1    thickness  1.131725\n"
     ]
    }
   ],
   "source": [
    "def F_score(attribute, group1, group2):\n",
    "    '''\n",
    "    Calculates the F score between two groups using a common attribute\n",
    "    :param attribute: Shared attribute of interest\n",
    "    :param group1: Subgroup of a dataframe, must be pandas dataframe\n",
    "    :param group2: Another pandas dataframe that is a subgroup of the same dataset as group1\n",
    "    :return: F score for the attribute of group1 and group2\n",
    "    '''\n",
    "    if not isinstance(group1, pd.core.frame.DataFrame) or not isinstance(group2, pd.core.frame.DataFrame):\n",
    "        raise TypeError(\"Both groups need to be a pandas dataframe!\")\n",
    "\n",
    "    combined_data = pd.concat([group1, group2]) #Used to generate mean for all data (grand mean)\n",
    "\n",
    "    grand_mean = np.mean(combined_data[attribute])\n",
    "    g1_mean = np.mean(group1[attribute])\n",
    "    g2_mean = np.mean(group2[attribute])\n",
    "\n",
    "    g1_diff = [(i-g1_mean)**2 for i in group1[attribute]]\n",
    "    g2_diff = [(i-g2_mean)**2 for i in group2[attribute]]\n",
    "\n",
    "    numerator = (g1_mean - grand_mean)**2 + (g2_mean - grand_mean)**2\n",
    "    denom = (1/(len(group1)-1))*sum(g1_diff) + (1/(len(group2)-1))*sum(g2_diff)\n",
    "\n",
    "    F = numerator/denom\n",
    "\n",
    "    return F\n",
    "\n",
    "#Generate score for each attribute\n",
    "scores = [F_score(attr, benign, malig) for attr in bc_data_no_class.columns.values]\n",
    "\n",
    "#Now match attr with F score\n",
    "matched = pd.DataFrame(\n",
    "    {'Attribute': bc_data_no_class.columns.values, 'F score': scores}\n",
    ")\n",
    "\n",
    "#Sort scores\n",
    "sorted = matched.sort_values(by = 'F score', ascending = False) #Sort scores/attr with largest at top\n",
    "\n",
    "#Print top 5 attr with highest F scores (largest differences)\n",
    "top_5 = sorted[0:5]\n",
    "print(top_5)"
   ]
  },
  {
   "cell_type": "markdown",
   "metadata": {},
   "source": [
    "F value for 'class' will be infinity since you will divide by 0. The value will always match the mean since the value for this particular attribute is uniform within each group"
   ]
  },
  {
   "cell_type": "markdown",
   "metadata": {},
   "source": [
    "### Part e"
   ]
  },
  {
   "cell_type": "code",
   "execution_count": 7,
   "metadata": {},
   "outputs": [],
   "source": [
    "# Take columns from the top 5 list and write reduced dataset to disk\n",
    "reduced = bc_data[list(top_5['Attribute'])]\n",
    "reduced.to_csv('reduced_data.csv') #Writes the index still to file"
   ]
  },
  {
   "cell_type": "markdown",
   "metadata": {},
   "source": [
    "## Exercise 2"
   ]
  },
  {
   "cell_type": "markdown",
   "metadata": {},
   "source": [
    "Working in visualization requires the ability to efficiently extract relevant information from research papers. To practice this, please download the paper kindlmann-luminance-2002.pdf from the lecture webpage and answer the following questions (using 1-2 sentences for each). It is acceptable if you provide answers without having read the full paper in detail (even though it’s a good paper and worth your time :). However, your answers have to use your own words. We will not grant even partial credit for copy-pasted text."
   ]
  },
  {
   "cell_type": "markdown",
   "metadata": {},
   "source": [
    "a) What is the Helmholtz-Kohlrausch effect? (2P)"
   ]
  },
  {
   "cell_type": "markdown",
   "metadata": {},
   "source": []
  },
  {
   "cell_type": "markdown",
   "metadata": {},
   "source": [
    "b) Why are the authors proposing to use images of faces? (2P)"
   ]
  },
  {
   "cell_type": "markdown",
   "metadata": {},
   "source": []
  },
  {
   "cell_type": "markdown",
   "metadata": {},
   "source": [
    "c) To what alternative method do the authors compare their newly proposed one in the user study? (2P)"
   ]
  },
  {
   "cell_type": "markdown",
   "metadata": {},
   "source": []
  },
  {
   "cell_type": "code",
   "execution_count": null,
   "metadata": {},
   "outputs": [],
   "source": []
  }
 ],
 "metadata": {
  "kernelspec": {
   "display_name": "Python 3",
   "language": "python",
   "name": "python3"
  },
  "language_info": {
   "codemirror_mode": {
    "name": "ipython",
    "version": 3
   },
   "file_extension": ".py",
   "mimetype": "text/x-python",
   "name": "python",
   "nbconvert_exporter": "python",
   "pygments_lexer": "ipython3",
   "version": "3.6.4"
  }
 },
 "nbformat": 4,
 "nbformat_minor": 2
}
