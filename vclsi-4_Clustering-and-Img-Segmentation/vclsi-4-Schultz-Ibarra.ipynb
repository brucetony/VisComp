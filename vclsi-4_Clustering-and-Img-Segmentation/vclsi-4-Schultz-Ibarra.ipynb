{
 "cells": [
  {
   "cell_type": "markdown",
   "metadata": {},
   "source": [
    "# Assignment Sheet 4"
   ]
  },
  {
   "cell_type": "markdown",
   "metadata": {},
   "source": [
    "Bruce Schultz  \n",
    "bschultz@uni-bonn.de  \n",
    "  \n",
    "Miguel A. Ibarra-Arellano  \n",
    "ibarrarellano@gmail.com"
   ]
  },
  {
   "cell_type": "markdown",
   "metadata": {},
   "source": [
    "## Exercise 1"
   ]
  },
  {
   "cell_type": "markdown",
   "metadata": {},
   "source": [
    "## Exercise 2"
   ]
  },
  {
   "cell_type": "code",
   "execution_count": 18,
   "metadata": {},
   "outputs": [],
   "source": [
    "import numpy as np\n",
    "from skimage import color\n",
    "from sklearn import mixture\n",
    "from scipy import misc, ndimage\n",
    "import matplotlib.pyplot as plt\n",
    "from IPython.display import Image"
   ]
  },
  {
   "cell_type": "markdown",
   "metadata": {},
   "source": [
    "**a) Read the grayscale image brain.png, which is provided on the lecture homepage. Reduce the salt\n",
    "and pepper noise in the image using a median filter. (3P)**"
   ]
  },
  {
   "cell_type": "code",
   "execution_count": 19,
   "metadata": {},
   "outputs": [
    {
     "name": "stderr",
     "output_type": "stream",
     "text": [
      "C:\\Users\\Bruce\\Anaconda3\\lib\\site-packages\\ipykernel_launcher.py:2: DeprecationWarning: `imread` is deprecated!\n",
      "`imread` is deprecated in SciPy 1.0.0, and will be removed in 1.2.0.\n",
      "Use ``imageio.imread`` instead.\n",
      "  \n",
      "C:\\Users\\Bruce\\Anaconda3\\lib\\site-packages\\ipykernel_launcher.py:7: DeprecationWarning: `imsave` is deprecated!\n",
      "`imsave` is deprecated in SciPy 1.0.0, and will be removed in 1.2.0.\n",
      "Use ``imageio.imwrite`` instead.\n",
      "  import sys\n"
     ]
    },
    {
     "data": {
      "image/png": "[encoded data removed]",
      "text/plain": [
       "<IPython.core.display.Image object>"
      ]
     },
     "execution_count": 19,
     "metadata": {},
     "output_type": "execute_result"
    }
   ],
   "source": [
    "# Read image into array data\n",
    "raw_img_read = misc.imread(\"brain-noisy.png\", True)\n",
    "\n",
    "# Denoising image\n",
    "mf_img = ndimage.median_filter(raw_img_read, size=5)\n",
    "\n",
    "misc.imsave('filtered_image.png', mf_img)\n",
    "Image('filtered_image.png')"
   ]
  },
  {
   "cell_type": "markdown",
   "metadata": {},
   "source": [
    "**b) Produce a binary mask that marks all pixels with an intensity greater than zero. In all further\n",
    "steps, only treat pixels within that mask. (1P)**"
   ]
  },
  {
   "cell_type": "code",
   "execution_count": 20,
   "metadata": {},
   "outputs": [
    {
     "name": "stderr",
     "output_type": "stream",
     "text": [
      "C:\\Users\\Bruce\\Anaconda3\\lib\\site-packages\\ipykernel_launcher.py:6: DeprecationWarning: `imsave` is deprecated!\n",
      "`imsave` is deprecated in SciPy 1.0.0, and will be removed in 1.2.0.\n",
      "Use ``imageio.imwrite`` instead.\n",
      "  \n"
     ]
    },
    {
     "data": {
      "image/png": "[encoded data removed]",
      "text/plain": [
       "<IPython.core.display.Image object>"
      ]
     },
     "execution_count": 20,
     "metadata": {},
     "output_type": "execute_result"
    }
   ],
   "source": [
    "# Creating binary mask\n",
    "binary_mask = mf_img > 0  # Any value greater than 0 (background)\n",
    "bin_masked_img = mf_img.copy()\n",
    "bin_masked_img[binary_mask] = 255  # 255 == white\n",
    "\n",
    "misc.imsave('binary_mask.png', bin_masked_img)\n",
    "Image('binary_mask.png')"
   ]
  },
  {
   "cell_type": "markdown",
   "metadata": {},
   "source": [
    "**c) Plot a log-scaled histogram of the pixels within the mask. It should show how frequently different\n",
    "intensity values occur in the image. What do the peaks in this histogram represent? Hint: One\n",
    "way to and out is to create masks that highlight the pixels belonging to each peak. (4P)**"
   ]
  },
  {
   "cell_type": "code",
   "execution_count": 21,
   "metadata": {},
   "outputs": [
    {
     "data": {
      "text/plain": [
       "Text(0.5,1,'Brain image by pixel value')"
      ]
     },
     "execution_count": 21,
     "metadata": {},
     "output_type": "execute_result"
    },
    {
     "data": {
      "image/png": "[encoded data removed]",
      "text/plain": [
       "<matplotlib.figure.Figure at 0x2101f7a6cf8>"
      ]
     },
     "metadata": {},
     "output_type": "display_data"
    }
   ],
   "source": [
    "# Plot values from non-background pixels on a log scaled histogram\n",
    "bins = 50\n",
    "plt.gca().set_xscale(\"log\")\n",
    "counts, pixels, bars = plt.hist(mf_img[binary_mask], np.logspace(np.log10(10), np.log10(300), bins))\n",
    "plt.xlabel(\"Pixel Value (log)\")\n",
    "plt.ylabel(\"Frequency\")\n",
    "plt.title(\"Brain image by pixel value\")\n",
    "# plt.show()  # Peaks refer to segmentation thresholds, gray/white matter and background"
   ]
  },
  {
   "cell_type": "markdown",
   "metadata": {},
   "source": [
    "The peaks in this plot represent the different classes within the image, specifically the different parts of the brain. Each peak shows the pixel intensity that is most associated with that brain anatomy."
   ]
  },
  {
   "cell_type": "code",
   "execution_count": 22,
   "metadata": {},
   "outputs": [
    {
     "name": "stderr",
     "output_type": "stream",
     "text": [
      "C:\\Users\\Bruce\\Anaconda3\\lib\\site-packages\\ipykernel_launcher.py:24: DeprecationWarning: `imsave` is deprecated!\n",
      "`imsave` is deprecated in SciPy 1.0.0, and will be removed in 1.2.0.\n",
      "Use ``imageio.imwrite`` instead.\n"
     ]
    },
    {
     "data": {
      "image/png": "[encoded data removed]",
      "text/plain": [
       "<IPython.core.display.Image object>"
      ]
     },
     "execution_count": 22,
     "metadata": {},
     "output_type": "execute_result"
    }
   ],
   "source": [
    "# Create masks for the pixel values surrounding each peak in histogram\n",
    "\n",
    "# Determine histogram peaks and the corresponding pixel value\n",
    "peak_values = []\n",
    "threshold = 75\n",
    "for i in range(len(counts)-1):\n",
    "    if counts[i] > threshold and counts[i] > counts[i-1] and counts[i] > counts[i+1]:\n",
    "        peak_values.append(pixels[i])\n",
    "\n",
    "#  Visualize image with peak pixel value locations after converting to RGB array\n",
    "masks = []\n",
    "pix_range = 40  # To give an acceptable range for pixel values\n",
    "for pix_value in peak_values:\n",
    "    masks.append(np.logical_and(pix_value+pix_range >= mf_img, mf_img >= pix_value-pix_range))\n",
    "\n",
    "peak_img = bin_masked_img.copy()\n",
    "peak_img = color.gray2rgb(peak_img)  # Convert to RGB array\n",
    "prime_colors = [[255, 0, 0], [0, 255, 0], [0, 0, 255]]  # Define primary colors [R, G, B]\n",
    "for counter, mask in enumerate(masks):\n",
    "    if counter > 2:\n",
    "        break\n",
    "    peak_img[mask] = prime_colors[counter]\n",
    "    \n",
    "misc.imsave('peak_masks.png', peak_img)\n",
    "Image('peak_masks.png')"
   ]
  },
  {
   "cell_type": "markdown",
   "metadata": {},
   "source": [
    "Note that since I only used pixel intensities that were within 40 units of each peak, some pixels in the image remain white as they were not included in the range"
   ]
  },
  {
   "cell_type": "markdown",
   "metadata": {},
   "source": [
    "**d) Now, we will use a three-compartment Gaussian Mixture Model for image segmentation: Based\n",
    "on their gray level, pixels that fall within the mask from c) should be assigned to one of three\n",
    "Gaussians, capturing corticospinal \n",
    "uid (dark), gray matter (medium), or white matter (bright).\n",
    "To start this process, initialize the parameters of a three-compartment GMM to some reasonable\n",
    "values and use them to compute the responsibilities pik of cluster k for pixel i. (4P)**"
   ]
  },
  {
   "cell_type": "code",
   "execution_count": 23,
   "metadata": {},
   "outputs": [],
   "source": [
    "# Segmentation with Gaussian Mixture Model\n",
    "# Generate numpy array to initialize GMM with, use random pixel numbers and theorized pixel peak values\n",
    "points_init = np.array([[1, 2, 3], peak_values]).transpose()\n",
    "\n",
    "gmm_data = np.column_stack(enumerate(mf_img[binary_mask])).transpose()  # Enumerate pixels with their grayscale values\n",
    "gmm = mixture.GaussianMixture(n_components=3, means_init=points_init)  # 3 clusters\n",
    "gmm.fit(gmm_data)  # Estimate model parameters with the EM algorithm\n",
    "\n",
    "# \"Responsibility\" = conditional probability of point i belonging to cluster k\n",
    "responsibilities = gmm.predict_proba(gmm_data)\n",
    "cluster_predict = gmm.predict(gmm_data)"
   ]
  },
  {
   "cell_type": "markdown",
   "metadata": {},
   "source": [
    "**e) Visualize the responsibilities by mapping the probabilities of belonging to the CSF, gray matter,\n",
    "and white matter clusters to the red, blue, and green color channels, respectively. Please submit\n",
    "the resulting image. (3P)**"
   ]
  },
  {
   "cell_type": "code",
   "execution_count": 24,
   "metadata": {},
   "outputs": [
    {
     "data": {
      "image/png": "[encoded data removed]",
      "text/plain": [
       "<IPython.core.display.Image object>"
      ]
     },
     "execution_count": 24,
     "metadata": {},
     "output_type": "execute_result"
    }
   ],
   "source": [
    "def pixel_cluster_matcher(mask_template, cluster_assignment_list, cluster_number):\n",
    "    '''\n",
    "    Uses a mask template to determine pixel location and iterates over new mask, changing Boolean\\\n",
    "    values to false if they don't match cluster_number\n",
    "    :param mask_template: Mask_template to use to determine pixels of interest to change bool values\n",
    "    :param cluster_assignment_list: 1D array with cluster assignment for every pixel that is True in mask_template\n",
    "    :param cluster_number: Which cluster you are building this mask for\n",
    "    :return: Mask with True values for only pixels at specified cluster_number location\n",
    "    '''\n",
    "    new_mask = mask_template.copy()\n",
    "    k = 0\n",
    "    for pixel in np.nditer(new_mask, op_flags=['readwrite']):\n",
    "        if pixel[...]:\n",
    "            if cluster_assignment_list[k] != cluster_number:\n",
    "                pixel[...] = False\n",
    "            k += 1\n",
    "    return new_mask\n",
    "\n",
    "# Map responsibilities/cluster predictions to image\n",
    "prime_colors = [[255, 0, 0], [0, 255, 0], [0, 0, 255]]  # Define primary colors [R, G, B]\n",
    "gmm_img = bin_masked_img.copy()\n",
    "gmm_img = color.gray2rgb(gmm_img)\n",
    "\n",
    "# Create masks for CSF, gray/white matter then assign them color layers\n",
    "csf_mask = pixel_cluster_matcher(binary_mask, cluster_predict, 0)\n",
    "gray_mask = pixel_cluster_matcher(binary_mask, cluster_predict, 1)\n",
    "white_mask = pixel_cluster_matcher(binary_mask, cluster_predict, 2)\n",
    "\n",
    "gmm_img[csf_mask] = [0, 255, 0]\n",
    "gmm_img[gray_mask] = [255, 0, 0]\n",
    "gmm_img[white_mask] = [0, 0, 255]\n",
    "\n",
    "Image('GMM_image.png')"
   ]
  },
  {
   "cell_type": "code",
   "execution_count": null,
   "metadata": {},
   "outputs": [],
   "source": []
  }
 ],
 "metadata": {
  "kernelspec": {
   "display_name": "Python 3",
   "language": "python",
   "name": "python3"
  },
  "language_info": {
   "codemirror_mode": {
    "name": "ipython",
    "version": 3
   },
   "file_extension": ".py",
   "mimetype": "text/x-python",
   "name": "python",
   "nbconvert_exporter": "python",
   "pygments_lexer": "ipython3",
   "version": "3.6.4"
  }
 },
 "nbformat": 4,
 "nbformat_minor": 2
}
